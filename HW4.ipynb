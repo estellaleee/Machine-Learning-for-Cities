{
 "cells": [
  {
   "cell_type": "markdown",
   "metadata": {},
   "source": [
    "## MLC HW 4\n",
    "\n",
    "### Question 1 (40 points)\n",
    "\n",
    "In this question, you will model traffic counts in Pittsburgh using Gaussian process (GP) regression.  The included dataset, \"PittsburghTrafficCounts.csv\", represents the average daily traffic counts computed by traffic sensors at over 1,100 locations in Allegheny County, PA.  The data was collected from years 2012-2014 and compiled by Carnegie Mellon University’s Traffic21 Institute; we have the longitude, latitude, and average daily count for each sensor.  \n",
    "\n",
    "Given this dataset, your goal is to learn a model of traffic count as a function of spatial location.  To do so, fit a Gaussian Process regression model to the observed data.  While you can decide on the precise kernel specification, you should try to achieve a good model fit, as quantified by a log marginal likelihood value greater than (i.e., less negative than) -1400.  Here are some hints for getting a good model fit:\n",
    "\n",
    "* We recommend that you take the logarithm of the traffic counts, and then subtract the mean of this vector, before fitting the model.\n",
    "\n",
    "* Since the data is noisy, don't forget to include a noise term (WhiteKernel) in your model.\n",
    "\n",
    "* When fitting a GP with RBF kernel on multidimensional data, you can learn a separate length scale for each dimension, e.g., length_scale=(length_scale_x, length_scale_y). \n",
    "\n",
    "Your Python code should provide the following five outputs:\n",
    "\n",
    "1) The kernel after parameter optimization and fitting to the observed data. (10 pts)\n",
    "\n",
    "2) The log marginal likelihood of the training data. (5 pts)\n",
    "\n",
    "3) Show a 2-D plot of the model's predictions over a mesh grid of longitude/latitude (with color corresponding to the model's predictions) and overlay a 2-D scatter plot of sensor locations (with color corresponding to the observed values). (10 pts)\n",
    "\n",
    "4) What percentage of sensors have average traffic counts more than two standard deviations higher or lower than the model predicts given their spatial location? (5 pts)\n",
    "\n",
    "5) Show a 2-D scatter plot of the sensor locations, with three colors corresponding to observed values a) more than two standard deviations higher than predicted, b) more then two standard deviations lower than predicted, and c) within two standard deviations of the predicted values. (10 pts)\n"
   ]
  },
  {
   "cell_type": "code",
   "execution_count": 1,
   "metadata": {},
   "outputs": [
    {
     "data": {
      "text/html": [
       "<div>\n",
       "<style scoped>\n",
       "    .dataframe tbody tr th:only-of-type {\n",
       "        vertical-align: middle;\n",
       "    }\n",
       "\n",
       "    .dataframe tbody tr th {\n",
       "        vertical-align: top;\n",
       "    }\n",
       "\n",
       "    .dataframe thead th {\n",
       "        text-align: right;\n",
       "    }\n",
       "</style>\n",
       "<table border=\"1\" class=\"dataframe\">\n",
       "  <thead>\n",
       "    <tr style=\"text-align: right;\">\n",
       "      <th></th>\n",
       "      <th>Longitude</th>\n",
       "      <th>Latitude</th>\n",
       "      <th>AvgDailyTrafficCount</th>\n",
       "    </tr>\n",
       "  </thead>\n",
       "  <tbody>\n",
       "    <tr>\n",
       "      <th>0</th>\n",
       "      <td>-80.278366</td>\n",
       "      <td>40.468606</td>\n",
       "      <td>84.0</td>\n",
       "    </tr>\n",
       "    <tr>\n",
       "      <th>1</th>\n",
       "      <td>-80.162117</td>\n",
       "      <td>40.384598</td>\n",
       "      <td>95.0</td>\n",
       "    </tr>\n",
       "    <tr>\n",
       "      <th>2</th>\n",
       "      <td>-80.221205</td>\n",
       "      <td>40.366778</td>\n",
       "      <td>97.0</td>\n",
       "    </tr>\n",
       "    <tr>\n",
       "      <th>3</th>\n",
       "      <td>-80.142455</td>\n",
       "      <td>40.622084</td>\n",
       "      <td>111.0</td>\n",
       "    </tr>\n",
       "    <tr>\n",
       "      <th>4</th>\n",
       "      <td>-80.131975</td>\n",
       "      <td>40.544915</td>\n",
       "      <td>125.0</td>\n",
       "    </tr>\n",
       "  </tbody>\n",
       "</table>\n",
       "</div>"
      ],
      "text/plain": [
       "   Longitude   Latitude  AvgDailyTrafficCount\n",
       "0 -80.278366  40.468606                  84.0\n",
       "1 -80.162117  40.384598                  95.0\n",
       "2 -80.221205  40.366778                  97.0\n",
       "3 -80.142455  40.622084                 111.0\n",
       "4 -80.131975  40.544915                 125.0"
      ]
     },
     "execution_count": 1,
     "metadata": {},
     "output_type": "execute_result"
    }
   ],
   "source": [
    "import pandas as pd\n",
    "import numpy as np\n",
    "from matplotlib import pyplot as plt\n",
    "from mpl_toolkits.axes_grid1 import make_axes_locatable\n",
    "from sklearn.gaussian_process import GaussianProcessRegressor\n",
    "from sklearn.gaussian_process.kernels import RBF, ConstantKernel,WhiteKernel\n",
    "from sklearn.model_selection import train_test_split\n",
    "np.random.seed(2019)\n",
    "Data1=pd.read_csv(\"PittsburghTrafficCounts.csv\")\n",
    "Data1.head()"
   ]
  },
  {
   "cell_type": "markdown",
   "metadata": {},
   "source": [
    "1) The kernel after parameter optimization and fitting to the observed data. (10 pts)"
   ]
  },
  {
   "cell_type": "code",
   "execution_count": 2,
   "metadata": {},
   "outputs": [],
   "source": [
    "# your code here\n",
    "Data1['LogTrafficCount'] = np.log(Data1['AvgDailyTrafficCount'])\n",
    "Data1['NormalizedTrafficCount'] = Data1['LogTrafficCount'] - Data1['LogTrafficCount'].mean()"
   ]
  },
  {
   "cell_type": "code",
   "execution_count": 3,
   "metadata": {},
   "outputs": [],
   "source": [
    "x_obs = Data1[['Longitude', 'Latitude']]\n",
    "y_obs = Data1['NormalizedTrafficCount']"
   ]
  },
  {
   "cell_type": "code",
   "execution_count": 4,
   "metadata": {},
   "outputs": [],
   "source": [
    "X_train, X_test, y_train, y_test = train_test_split(x_obs, y_obs, test_size=0.2, random_state=2019)"
   ]
  },
  {
   "cell_type": "code",
   "execution_count": 5,
   "metadata": {},
   "outputs": [
    {
     "data": {
      "text/plain": [
       "GaussianProcessRegressor(alpha=1e-10, copy_X_train=True,\n",
       "             kernel=1**2 * RBF(length_scale=1) + WhiteKernel(noise_level=1),\n",
       "             n_restarts_optimizer=0, normalize_y=False,\n",
       "             optimizer='fmin_l_bfgs_b', random_state=2019)"
      ]
     },
     "execution_count": 5,
     "metadata": {},
     "output_type": "execute_result"
    }
   ],
   "source": [
    "kernel = 1.* RBF(length_scale=1., length_scale_bounds=(1e-3, 1e3)) \\\n",
    "    + WhiteKernel(noise_level=1., noise_level_bounds=(1e-10, 1e10))\n",
    "\n",
    "gp = GaussianProcessRegressor(kernel=kernel,random_state=2019)\n",
    "gp.fit(X_train, y_train)"
   ]
  },
  {
   "cell_type": "markdown",
   "metadata": {},
   "source": [
    "2) The log marginal likelihood of the training data. (5 pts)"
   ]
  },
  {
   "cell_type": "code",
   "execution_count": 6,
   "metadata": {},
   "outputs": [
    {
     "name": "stdout",
     "output_type": "stream",
     "text": [
      "The log marginal likelihood of the training data is -1100.103217\n"
     ]
    }
   ],
   "source": [
    "print(\"The log marginal likelihood of the training data is %f\"%gp.log_marginal_likelihood_value_)"
   ]
  },
  {
   "cell_type": "markdown",
   "metadata": {},
   "source": [
    "3) Show a 2-D plot of the model's predictions over a mesh grid of longitude/latitude (with color corresponding to the model's predictions) and overlay a 2-D scatter plot of sensor locations (with color corresponding to the observed values). (10 pts)"
   ]
  },
  {
   "cell_type": "code",
   "execution_count": 7,
   "metadata": {},
   "outputs": [
    {
     "data": {
      "image/png": "[encoded data removed]",
      "text/plain": [
       "<Figure size 720x720 with 1 Axes>"
      ]
     },
     "metadata": {},
     "output_type": "display_data"
    }
   ],
   "source": [
    "# create a mesh to plot in\n",
    "x_min, x_max = Data1['Longitude'].min() - 0.1, Data1['Longitude'].max() + 0.1\n",
    "y_min, y_max = Data1['Latitude'].min() - 0.1, Data1['Latitude'].max() + 0.1\n",
    "h = .02  # step size in the mesh\n",
    "xx, yy = np.meshgrid(np.arange(x_min, x_max, h),\n",
    "                     np.arange(y_min, y_max, h))\n",
    "\n",
    "plt.figure(figsize=(10, 10))\n",
    "# ax = plt.gca()\n",
    "# im = ax.imshow(np.arange(100).reshape((10,10)))\n",
    "    # Plot the predicted probabilities. For that, we will assign a color to\n",
    "    # each point in the mesh [x_min, m_max]x[y_min, y_max].\n",
    "plt.subplot(1, 1, 1)\n",
    "Z = gp.predict(np.c_[xx.ravel(), yy.ravel()])\n",
    "# Put the result into a color plot\n",
    "Z = Z.reshape((xx.shape[0], xx.shape[1]))\n",
    "plt.imshow(Z, extent=(x_min, x_max, y_min, y_max), origin=\"lower\")\n",
    "\n",
    "# Plot also the training points\n",
    "plt.scatter(Data1['Longitude'], Data1['Latitude'], c=Data1['NormalizedTrafficCount'])\n",
    "plt.xlabel('Longitude')\n",
    "plt.ylabel('Latitude')\n",
    "plt.xlim(xx.min(), xx.max())\n",
    "plt.ylim(yy.min(), yy.max())\n",
    "plt.xticks(())\n",
    "plt.yticks(())\n",
    "plt.title(\"%s, LML: %.3f\" %\n",
    "          (\"RBF\", gp.log_marginal_likelihood_value_))\n",
    "\n",
    "plt.tight_layout()\n",
    "plt.show()"
   ]
  },
  {
   "cell_type": "markdown",
   "metadata": {},
   "source": [
    "4) What percentage of sensors have average traffic counts more than two standard deviations higher or lower than the model predicts given their spatial location? (5 pts)"
   ]
  },
  {
   "cell_type": "code",
   "execution_count": 8,
   "metadata": {},
   "outputs": [],
   "source": [
    "Data1['PredictTrafficCount'] = gp.predict(Data1[['Longitude', 'Latitude']])\n",
    "std = Data1['PredictTrafficCount'].std()\n",
    "Data1[\"Difference\"] = (Data1['NormalizedTrafficCount'] - Data1['PredictTrafficCount'])/(2*std)"
   ]
  },
  {
   "cell_type": "code",
   "execution_count": 9,
   "metadata": {},
   "outputs": [
    {
     "name": "stdout",
     "output_type": "stream",
     "text": [
      "Percentage outside of 2 standard deviation is 13.901345%.\n"
     ]
    }
   ],
   "source": [
    "upper = 0\n",
    "lower = 0\n",
    "upper_pro = 0\n",
    "lower_pro = 0\n",
    "for i in Data1[\"Difference\"]:\n",
    "    if i > 1:\n",
    "        upper += 1\n",
    "    if i < -1:\n",
    "        lower += 1\n",
    "upper_pro = upper/Data1.shape[0]\n",
    "lower_pro = lower/Data1.shape[0]\n",
    "print (\"Percentage outside of 2 standard deviation is %f\"%((upper_pro + lower_pro)*100) + \"%.\")"
   ]
  },
  {
   "cell_type": "markdown",
   "metadata": {},
   "source": [
    "5) Show a 2-D scatter plot of the sensor locations, with three colors corresponding to observed values a) more than two standard deviations higher than predicted, b) more then two standard deviations lower than predicted, and c) within two standard deviations of the predicted values. (10 pts)"
   ]
  },
  {
   "cell_type": "code",
   "execution_count": 10,
   "metadata": {},
   "outputs": [],
   "source": [
    "def abnormal(df):\n",
    "    if df[\"Difference\"] > 1:\n",
    "        return 1\n",
    "    elif df[\"Difference\"] < -1:\n",
    "        return -1\n",
    "    else:\n",
    "        return 0\n",
    "Data1[\"Abnormal\"] = Data1.apply(abnormal, axis=1).tolist()"
   ]
  },
  {
   "cell_type": "code",
   "execution_count": 11,
   "metadata": {},
   "outputs": [
    {
     "data": {
      "image/png": "[encoded data removed]",
      "text/plain": [
       "<Figure size 720x720 with 1 Axes>"
      ]
     },
     "metadata": {},
     "output_type": "display_data"
    }
   ],
   "source": [
    "plt.figure(figsize=(10, 10))\n",
    "plt.subplot(1, 1, 1)\n",
    "Z = gp.predict(np.c_[xx.ravel(), yy.ravel()])\n",
    "# Put the result into a color plot\n",
    "Z = Z.reshape((xx.shape[0], xx.shape[1]))\n",
    "plt.imshow(Z, extent=(x_min, x_max, y_min, y_max), origin=\"lower\")\n",
    "\n",
    "# Plot also the training points\n",
    "plt.scatter(Data1['Longitude'], Data1['Latitude'], \n",
    "            c=np.array(['grey', 'blue', 'red'])[Data1['Abnormal']], \n",
    "            label='2 std outside predicted value')\n",
    "plt.xlabel('Longitude')\n",
    "plt.ylabel('Latitude')\n",
    "plt.xlim(xx.min(), xx.max())\n",
    "plt.ylim(yy.min(), yy.max())\n",
    "plt.xticks(())\n",
    "plt.yticks(())\n",
    "plt.title(\"%s, LML: %.3f\" %\n",
    "          (\"RBF\", gp.log_marginal_likelihood_value_))\n",
    "plt.legend()\n",
    "\n",
    "plt.tight_layout()\n",
    "plt.show()"
   ]
  },
  {
   "cell_type": "markdown",
   "metadata": {
    "collapsed": true
   },
   "source": [
    "### Question 2: Cluster-based anomaly detection (10 points)\n",
    "\n",
    "Given an unlabeled dataset with two real-valued attributes, we perform cluster-based anomaly detection by running k-means, choosing the number of clusters k automatically using the Schwarz criterion.  Four clusters are formed:\n",
    "\n",
    "A: 100 points, center (0, 0), standard deviation 0.1\n",
    "\n",
    "B: 150 points, center (35, 5), standard deviation 5\n",
    "\n",
    "C: 2 points, center (15, 20), standard deviation 1\n",
    "\n",
    "D: 200 points, center (10, 10), standard deviation 1\n",
    "\n",
    "Given the four points below, which of these points are, and are not, likely to be anomalies?  Choose “Anomaly” or “Not Anomaly”, and provide a brief explanation, for each point. \n",
    "(Hint: your answers should take into account the size and standard deviation of each cluster as well as the distances to cluster centers.)\n",
    "\n",
    "(1, 0)\t\t**Anomaly**\n",
    "\n",
    "If we using local-based anomoly detection, this point abnormal since it is 10 std outside of the nearest cluster center. But if we using global density-based anomoly detection, then this point would not be consider as abnormal. Since it is actually very close to a dense pack as distance wise.\n",
    "\n",
    "\n",
    "(35, 2)\t\t**Not Anomaly**\n",
    "\n",
    "This point is only one std within the cluster center (35,5), and this cluster is less dense than the above cluster. So this point is not abnormal.\n",
    "\n",
    "\n",
    "(15, 19)\t**Anomaly** \n",
    "\n",
    "Although this point is only one std within the cluster center (15,20), this cluster only contains 2 points. Points are all highly likely to be marked abnormal in this tiny group.\n",
    "\n",
    "\n",
    "(10, 11)\t**Not Anomaly**\n",
    "\n",
    "\n",
    "The nearest cluster center is (10,10) with only 1 std and 200 points (most sparse cluster), so this point would not be detected as abnormal."
   ]
  },
  {
   "cell_type": "markdown",
   "metadata": {},
   "source": [
    "### Question 3: Anomaly detection (50 points)\n",
    "\n",
    "For this question, use the \"County Health Indicators\" dataset provided to identify the most anomalous counties. Please list the top 5 most anomalous counties computed using each of the following models.  (We recommend that, as a pre-processing step, you drop na values, and make sure all numeric values are treated as floats not strings.)\n",
    "\n",
    "Part 1: Learn a Bayesian network structure using only the six features [\"'\\% Smokers'\",\"'\\% Obese'\",\"'Violent Crime Rate'\",\"'80/20 Income Ratio'\",\"'\\% Children in Poverty'\",\"'Average Daily PM2.5'\"].  Use pd.cut() to discretize each feature into 5 categories: 0,1,2,3,4. \n",
    "\n",
    "(a) Use HillClimbSearch and BicScore to learn the Bayesian network structure (5 pts) \n",
    "\n",
    "(b) Which 5 counties have the lowest (most negative) log-likelihood values? Please show a ranked list of the top counties' names and log-likelihood values. (10 pts)\n",
    "\n",
    "Part 2: Cluster based anomaly detection.  Use all numeric features for this part, and do not discretize. \n",
    "\n",
    "(a) Clustering with k-means. Please use k=3 clusters. Compute each record's distance to the nearest cluster center and report the five counties which have the longest distances. (10 pts)\n",
    "\n",
    "(b) Cluster with Gaussian Mixture. Please repeat (2)a but use log-likelihood for each record (rather than distance) as the measure of anomalousness. (10 pts)\n",
    "\n",
    "Part 3: Choose one more anomaly detection model you prefer and report the top 5 most anomalous counties by the model you chose.  (10 pts)\n",
    "\n",
    "Part 4: Compare and contrast the results from the different models.  Were there some counties that were found to be anomalous in some models and not in others?  Please provide some intuitions on why each county was found to be anomalous. (5 pts)"
   ]
  },
  {
   "cell_type": "code",
   "execution_count": 12,
   "metadata": {},
   "outputs": [],
   "source": [
    "pd.set_option('display.max_columns', 500)"
   ]
  },
  {
   "cell_type": "code",
   "execution_count": 13,
   "metadata": {},
   "outputs": [
    {
     "data": {
      "text/html": [
       "<div>\n",
       "<style scoped>\n",
       "    .dataframe tbody tr th:only-of-type {\n",
       "        vertical-align: middle;\n",
       "    }\n",
       "\n",
       "    .dataframe tbody tr th {\n",
       "        vertical-align: top;\n",
       "    }\n",
       "\n",
       "    .dataframe thead th {\n",
       "        text-align: right;\n",
       "    }\n",
       "</style>\n",
       "<table border=\"1\" class=\"dataframe\">\n",
       "  <thead>\n",
       "    <tr style=\"text-align: right;\">\n",
       "      <th></th>\n",
       "      <th>County</th>\n",
       "      <th>'\\% Reporting Fair/Poor Health'</th>\n",
       "      <th>'Physically Unhealthy Days Per Month'</th>\n",
       "      <th>'Mentally Unhealthy Days Per Month'</th>\n",
       "      <th>'\\% Low birth weight births'</th>\n",
       "      <th>'\\% Smokers'</th>\n",
       "      <th>'\\% Obese'</th>\n",
       "      <th>'Food Environment Index'</th>\n",
       "      <th>'\\% Physically Inactive'</th>\n",
       "      <th>'\\% With Access To Exercise'</th>\n",
       "      <th>'\\% Excessive Drinking'</th>\n",
       "      <th>'\\% Alcohol-Impaired Driving Deaths'</th>\n",
       "      <th>'Chlamydia Rate'</th>\n",
       "      <th>'Teen Birth Rate'</th>\n",
       "      <th>'\\% Uninsured'</th>\n",
       "      <th>'Preventable Hosp. Rate'</th>\n",
       "      <th>'\\% Dibetics receiving HbA1c'</th>\n",
       "      <th>'\\% Mammography'</th>\n",
       "      <th>'Graduation Rate'</th>\n",
       "      <th>'\\% Some College'</th>\n",
       "      <th>'\\% Unemployed'</th>\n",
       "      <th>'\\% Children in Poverty'</th>\n",
       "      <th>'80/20 Income Ratio'</th>\n",
       "      <th>'\\% Single-Parent Households'</th>\n",
       "      <th>'Association Rate'</th>\n",
       "      <th>'Violent Crime Rate'</th>\n",
       "      <th>'Injury Death Rate'</th>\n",
       "      <th>'Average Daily PM2.5'</th>\n",
       "      <th>'\\% Severe Housing Problems'</th>\n",
       "      <th>'\\% Drive Alone'</th>\n",
       "      <th>'\\% Long Commute - Drives Alone'</th>\n",
       "    </tr>\n",
       "  </thead>\n",
       "  <tbody>\n",
       "    <tr>\n",
       "      <th>0</th>\n",
       "      <td>Autauga, Alabama</td>\n",
       "      <td>19</td>\n",
       "      <td>4.4</td>\n",
       "      <td>4.3</td>\n",
       "      <td>9</td>\n",
       "      <td>19</td>\n",
       "      <td>31</td>\n",
       "      <td>7.1</td>\n",
       "      <td>29</td>\n",
       "      <td>71</td>\n",
       "      <td>15</td>\n",
       "      <td>32</td>\n",
       "      <td>416</td>\n",
       "      <td>35</td>\n",
       "      <td>13</td>\n",
       "      <td>62</td>\n",
       "      <td>84</td>\n",
       "      <td>62</td>\n",
       "      <td>83</td>\n",
       "      <td>56.5</td>\n",
       "      <td>5.9</td>\n",
       "      <td>18</td>\n",
       "      <td>4.3</td>\n",
       "      <td>27</td>\n",
       "      <td>13.8</td>\n",
       "      <td>254</td>\n",
       "      <td>76</td>\n",
       "      <td>12.9</td>\n",
       "      <td>14</td>\n",
       "      <td>89</td>\n",
       "      <td>42</td>\n",
       "    </tr>\n",
       "    <tr>\n",
       "      <th>1</th>\n",
       "      <td>Baldwin, Alabama</td>\n",
       "      <td>16</td>\n",
       "      <td>4.1</td>\n",
       "      <td>4.2</td>\n",
       "      <td>9</td>\n",
       "      <td>19</td>\n",
       "      <td>27</td>\n",
       "      <td>7.6</td>\n",
       "      <td>25</td>\n",
       "      <td>72</td>\n",
       "      <td>15</td>\n",
       "      <td>39</td>\n",
       "      <td>308</td>\n",
       "      <td>42</td>\n",
       "      <td>17</td>\n",
       "      <td>49</td>\n",
       "      <td>84</td>\n",
       "      <td>66</td>\n",
       "      <td>80</td>\n",
       "      <td>62.3</td>\n",
       "      <td>6.1</td>\n",
       "      <td>20</td>\n",
       "      <td>4.5</td>\n",
       "      <td>28</td>\n",
       "      <td>12.0</td>\n",
       "      <td>221</td>\n",
       "      <td>70</td>\n",
       "      <td>13.1</td>\n",
       "      <td>15</td>\n",
       "      <td>84</td>\n",
       "      <td>37</td>\n",
       "    </tr>\n",
       "    <tr>\n",
       "      <th>2</th>\n",
       "      <td>Barbour, Alabama</td>\n",
       "      <td>26</td>\n",
       "      <td>4.9</td>\n",
       "      <td>4.7</td>\n",
       "      <td>12</td>\n",
       "      <td>21</td>\n",
       "      <td>41</td>\n",
       "      <td>5.1</td>\n",
       "      <td>33</td>\n",
       "      <td>45</td>\n",
       "      <td>12</td>\n",
       "      <td>39</td>\n",
       "      <td>632</td>\n",
       "      <td>68</td>\n",
       "      <td>17</td>\n",
       "      <td>61</td>\n",
       "      <td>90</td>\n",
       "      <td>63</td>\n",
       "      <td>81</td>\n",
       "      <td>43.4</td>\n",
       "      <td>10.8</td>\n",
       "      <td>38</td>\n",
       "      <td>5.3</td>\n",
       "      <td>54</td>\n",
       "      <td>8.1</td>\n",
       "      <td>147</td>\n",
       "      <td>64</td>\n",
       "      <td>12.6</td>\n",
       "      <td>18</td>\n",
       "      <td>84</td>\n",
       "      <td>35</td>\n",
       "    </tr>\n",
       "    <tr>\n",
       "      <th>3</th>\n",
       "      <td>Bibb, Alabama</td>\n",
       "      <td>22</td>\n",
       "      <td>4.8</td>\n",
       "      <td>4.6</td>\n",
       "      <td>12</td>\n",
       "      <td>21</td>\n",
       "      <td>40</td>\n",
       "      <td>7.4</td>\n",
       "      <td>33</td>\n",
       "      <td>33</td>\n",
       "      <td>14</td>\n",
       "      <td>34</td>\n",
       "      <td>367</td>\n",
       "      <td>48</td>\n",
       "      <td>15</td>\n",
       "      <td>74</td>\n",
       "      <td>84</td>\n",
       "      <td>59</td>\n",
       "      <td>81</td>\n",
       "      <td>48.9</td>\n",
       "      <td>7.1</td>\n",
       "      <td>27</td>\n",
       "      <td>4.3</td>\n",
       "      <td>32</td>\n",
       "      <td>9.8</td>\n",
       "      <td>236</td>\n",
       "      <td>75</td>\n",
       "      <td>12.9</td>\n",
       "      <td>13</td>\n",
       "      <td>84</td>\n",
       "      <td>46</td>\n",
       "    </tr>\n",
       "    <tr>\n",
       "      <th>4</th>\n",
       "      <td>Blount, Alabama</td>\n",
       "      <td>21</td>\n",
       "      <td>4.6</td>\n",
       "      <td>4.5</td>\n",
       "      <td>7</td>\n",
       "      <td>19</td>\n",
       "      <td>32</td>\n",
       "      <td>8.3</td>\n",
       "      <td>29</td>\n",
       "      <td>26</td>\n",
       "      <td>14</td>\n",
       "      <td>19</td>\n",
       "      <td>159</td>\n",
       "      <td>45</td>\n",
       "      <td>18</td>\n",
       "      <td>63</td>\n",
       "      <td>86</td>\n",
       "      <td>61</td>\n",
       "      <td>85</td>\n",
       "      <td>49.1</td>\n",
       "      <td>6.1</td>\n",
       "      <td>24</td>\n",
       "      <td>4.1</td>\n",
       "      <td>28</td>\n",
       "      <td>8.5</td>\n",
       "      <td>219</td>\n",
       "      <td>89</td>\n",
       "      <td>12.7</td>\n",
       "      <td>12</td>\n",
       "      <td>85</td>\n",
       "      <td>59</td>\n",
       "    </tr>\n",
       "  </tbody>\n",
       "</table>\n",
       "</div>"
      ],
      "text/plain": [
       "             County '\\% Reporting Fair/Poor Health'  \\\n",
       "0  Autauga, Alabama                              19   \n",
       "1  Baldwin, Alabama                              16   \n",
       "2  Barbour, Alabama                              26   \n",
       "3     Bibb, Alabama                              22   \n",
       "4   Blount, Alabama                              21   \n",
       "\n",
       "  'Physically Unhealthy Days Per Month' 'Mentally Unhealthy Days Per Month'  \\\n",
       "0                                   4.4                                 4.3   \n",
       "1                                   4.1                                 4.2   \n",
       "2                                   4.9                                 4.7   \n",
       "3                                   4.8                                 4.6   \n",
       "4                                   4.6                                 4.5   \n",
       "\n",
       "  '\\% Low birth weight births' '\\% Smokers'  '\\% Obese'  \\\n",
       "0                            9           19          31   \n",
       "1                            9           19          27   \n",
       "2                           12           21          41   \n",
       "3                           12           21          40   \n",
       "4                            7           19          32   \n",
       "\n",
       "   'Food Environment Index'  '\\% Physically Inactive'  \\\n",
       "0                       7.1                        29   \n",
       "1                       7.6                        25   \n",
       "2                       5.1                        33   \n",
       "3                       7.4                        33   \n",
       "4                       8.3                        29   \n",
       "\n",
       "  '\\% With Access To Exercise' '\\% Excessive Drinking'  \\\n",
       "0                           71                      15   \n",
       "1                           72                      15   \n",
       "2                           45                      12   \n",
       "3                           33                      14   \n",
       "4                           26                      14   \n",
       "\n",
       "  '\\% Alcohol-Impaired Driving Deaths' 'Chlamydia Rate' 'Teen Birth Rate'  \\\n",
       "0                                   32              416                35   \n",
       "1                                   39              308                42   \n",
       "2                                   39              632                68   \n",
       "3                                   34              367                48   \n",
       "4                                   19              159                45   \n",
       "\n",
       "  '\\% Uninsured' 'Preventable Hosp. Rate' '\\% Dibetics receiving HbA1c'  \\\n",
       "0             13                       62                            84   \n",
       "1             17                       49                            84   \n",
       "2             17                       61                            90   \n",
       "3             15                       74                            84   \n",
       "4             18                       63                            86   \n",
       "\n",
       "  '\\% Mammography' 'Graduation Rate' '\\% Some College' '\\% Unemployed'  \\\n",
       "0               62                83              56.5             5.9   \n",
       "1               66                80              62.3             6.1   \n",
       "2               63                81              43.4            10.8   \n",
       "3               59                81              48.9             7.1   \n",
       "4               61                85              49.1             6.1   \n",
       "\n",
       "  '\\% Children in Poverty' '80/20 Income Ratio' '\\% Single-Parent Households'  \\\n",
       "0                       18                  4.3                            27   \n",
       "1                       20                  4.5                            28   \n",
       "2                       38                  5.3                            54   \n",
       "3                       27                  4.3                            32   \n",
       "4                       24                  4.1                            28   \n",
       "\n",
       "   'Association Rate' 'Violent Crime Rate' 'Injury Death Rate'  \\\n",
       "0                13.8                  254                  76   \n",
       "1                12.0                  221                  70   \n",
       "2                 8.1                  147                  64   \n",
       "3                 9.8                  236                  75   \n",
       "4                 8.5                  219                  89   \n",
       "\n",
       "  'Average Daily PM2.5'  '\\% Severe Housing Problems' '\\% Drive Alone'  \\\n",
       "0                  12.9                            14               89   \n",
       "1                  13.1                            15               84   \n",
       "2                  12.6                            18               84   \n",
       "3                  12.9                            13               84   \n",
       "4                  12.7                            12               85   \n",
       "\n",
       "  '\\% Long Commute - Drives Alone'  \n",
       "0                               42  \n",
       "1                               37  \n",
       "2                               35  \n",
       "3                               46  \n",
       "4                               59  "
      ]
     },
     "execution_count": 13,
     "metadata": {},
     "output_type": "execute_result"
    }
   ],
   "source": [
    "Data2=pd.read_csv(\"2016CountyHealthIndicators.csv\")\n",
    "Data2.head()"
   ]
  },
  {
   "cell_type": "code",
   "execution_count": 14,
   "metadata": {},
   "outputs": [
    {
     "data": {
      "text/plain": [
       "(3141, 31)"
      ]
     },
     "execution_count": 14,
     "metadata": {},
     "output_type": "execute_result"
    }
   ],
   "source": [
    "Data2.shape"
   ]
  },
  {
   "cell_type": "code",
   "execution_count": 15,
   "metadata": {},
   "outputs": [
    {
     "name": "stderr",
     "output_type": "stream",
     "text": [
      "/nfshome/pl1840/.conda/envs/myEnv3/lib/python3.7/site-packages/pandas/core/ops.py:1649: FutureWarning: elementwise comparison failed; returning scalar instead, but in the future will perform elementwise comparison\n",
      "  result = method(y)\n"
     ]
    }
   ],
   "source": [
    "Data2 = Data2[Data2.iloc[:,:]!=\"?\"].dropna()"
   ]
  },
  {
   "cell_type": "code",
   "execution_count": 16,
   "metadata": {},
   "outputs": [
    {
     "data": {
      "text/plain": [
       "(2486, 31)"
      ]
     },
     "execution_count": 16,
     "metadata": {},
     "output_type": "execute_result"
    }
   ],
   "source": [
    "Data2.shape"
   ]
  },
  {
   "cell_type": "code",
   "execution_count": 17,
   "metadata": {},
   "outputs": [
    {
     "name": "stderr",
     "output_type": "stream",
     "text": [
      "/nfshome/pl1840/.conda/envs/myEnv3/lib/python3.7/site-packages/ipykernel_launcher.py:1: FutureWarning: convert_objects is deprecated.  To re-infer data dtypes for object columns, use DataFrame.infer_objects()\n",
      "For all other conversions use the data-type specific converters pd.to_datetime, pd.to_timedelta and pd.to_numeric.\n",
      "  \"\"\"Entry point for launching an IPython kernel.\n",
      "/nfshome/pl1840/.conda/envs/myEnv3/lib/python3.7/site-packages/ipykernel_launcher.py:2: FutureWarning: convert_objects is deprecated.  To re-infer data dtypes for object columns, use DataFrame.infer_objects()\n",
      "For all other conversions use the data-type specific converters pd.to_datetime, pd.to_timedelta and pd.to_numeric.\n",
      "  \n"
     ]
    },
    {
     "data": {
      "text/plain": [
       "County                                    object\n",
       "'\\% Reporting Fair/Poor Health'            int64\n",
       "'Physically Unhealthy Days Per Month'    float64\n",
       "'Mentally Unhealthy Days Per Month'      float64\n",
       "'\\% Low birth weight births'               int64\n",
       "'\\% Smokers'                               int64\n",
       "'\\% Obese'                                 int64\n",
       "'Food Environment Index'                 float64\n",
       "'\\% Physically Inactive'                   int64\n",
       "'\\% With Access To Exercise'               int64\n",
       "'\\% Excessive Drinking'                    int64\n",
       "'\\% Alcohol-Impaired Driving Deaths'       int64\n",
       "'Chlamydia Rate'                           int64\n",
       "'Teen Birth Rate'                          int64\n",
       "'\\% Uninsured'                             int64\n",
       "'Preventable Hosp. Rate'                   int64\n",
       "'\\% Dibetics receiving HbA1c'              int64\n",
       "'\\% Mammography'                           int64\n",
       "'Graduation Rate'                          int64\n",
       "'\\% Some College'                        float64\n",
       "'\\% Unemployed'                          float64\n",
       "'\\% Children in Poverty'                   int64\n",
       "'80/20 Income Ratio'                     float64\n",
       "'\\% Single-Parent Households'              int64\n",
       "'Association Rate'                       float64\n",
       "'Violent Crime Rate'                       int64\n",
       "'Injury Death Rate'                        int64\n",
       "'Average Daily PM2.5'                    float64\n",
       "'\\% Severe Housing Problems'               int64\n",
       "'\\% Drive Alone'                           int64\n",
       "'\\% Long Commute - Drives Alone'           int64\n",
       "dtype: object"
      ]
     },
     "execution_count": 17,
     "metadata": {},
     "output_type": "execute_result"
    }
   ],
   "source": [
    "Data2 = Data2.convert_objects(convert_numeric=True)\n",
    "Data2.convert_objects(convert_numeric=True).dtypes"
   ]
  },
  {
   "cell_type": "code",
   "execution_count": 18,
   "metadata": {},
   "outputs": [],
   "source": [
    "Data2.dropna(inplace=True)"
   ]
  },
  {
   "cell_type": "code",
   "execution_count": 19,
   "metadata": {},
   "outputs": [
    {
     "data": {
      "text/plain": [
       "County                                   0\n",
       "'\\% Reporting Fair/Poor Health'          0\n",
       "'Physically Unhealthy Days Per Month'    0\n",
       "'Mentally Unhealthy Days Per Month'      0\n",
       "'\\% Low birth weight births'             0\n",
       "'\\% Smokers'                             0\n",
       "'\\% Obese'                               0\n",
       "'Food Environment Index'                 0\n",
       "'\\% Physically Inactive'                 0\n",
       "'\\% With Access To Exercise'             0\n",
       "'\\% Excessive Drinking'                  0\n",
       "'\\% Alcohol-Impaired Driving Deaths'     0\n",
       "'Chlamydia Rate'                         0\n",
       "'Teen Birth Rate'                        0\n",
       "'\\% Uninsured'                           0\n",
       "'Preventable Hosp. Rate'                 0\n",
       "'\\% Dibetics receiving HbA1c'            0\n",
       "'\\% Mammography'                         0\n",
       "'Graduation Rate'                        0\n",
       "'\\% Some College'                        0\n",
       "'\\% Unemployed'                          0\n",
       "'\\% Children in Poverty'                 0\n",
       "'80/20 Income Ratio'                     0\n",
       "'\\% Single-Parent Households'            0\n",
       "'Association Rate'                       0\n",
       "'Violent Crime Rate'                     0\n",
       "'Injury Death Rate'                      0\n",
       "'Average Daily PM2.5'                    0\n",
       "'\\% Severe Housing Problems'             0\n",
       "'\\% Drive Alone'                         0\n",
       "'\\% Long Commute - Drives Alone'         0\n",
       "dtype: int64"
      ]
     },
     "execution_count": 19,
     "metadata": {},
     "output_type": "execute_result"
    }
   ],
   "source": [
    "Data2.isna().sum()"
   ]
  },
  {
   "cell_type": "code",
   "execution_count": 20,
   "metadata": {},
   "outputs": [],
   "source": [
    "Data2.set_index(\"County\", inplace=True)"
   ]
  },
  {
   "cell_type": "code",
   "execution_count": 21,
   "metadata": {},
   "outputs": [
    {
     "data": {
      "text/plain": [
       "(2486, 30)"
      ]
     },
     "execution_count": 21,
     "metadata": {},
     "output_type": "execute_result"
    }
   ],
   "source": [
    "Data2.shape"
   ]
  },
  {
   "cell_type": "markdown",
   "metadata": {
    "collapsed": true
   },
   "source": [
    "Part 1: Learn a Bayesian network structure using only the six features [\"'\\% Smokers'\",\"'\\% Obese'\",\"'Violent Crime Rate'\",\"'80/20 Income Ratio'\",\"'\\% Children in Poverty'\",\"'Average Daily PM2.5'\"].  Use pd.cut() to discretize each feature into 5 categories: 0,1,2,3,4. "
   ]
  },
  {
   "cell_type": "code",
   "execution_count": 22,
   "metadata": {},
   "outputs": [
    {
     "data": {
      "text/html": [
       "<div>\n",
       "<style scoped>\n",
       "    .dataframe tbody tr th:only-of-type {\n",
       "        vertical-align: middle;\n",
       "    }\n",
       "\n",
       "    .dataframe tbody tr th {\n",
       "        vertical-align: top;\n",
       "    }\n",
       "\n",
       "    .dataframe thead th {\n",
       "        text-align: right;\n",
       "    }\n",
       "</style>\n",
       "<table border=\"1\" class=\"dataframe\">\n",
       "  <thead>\n",
       "    <tr style=\"text-align: right;\">\n",
       "      <th></th>\n",
       "      <th>'\\% Smokers'</th>\n",
       "      <th>'\\% Obese'</th>\n",
       "      <th>'Violent Crime Rate'</th>\n",
       "      <th>'80/20 Income Ratio'</th>\n",
       "      <th>'\\% Children in Poverty'</th>\n",
       "      <th>'Average Daily PM2.5'</th>\n",
       "    </tr>\n",
       "    <tr>\n",
       "      <th>County</th>\n",
       "      <th></th>\n",
       "      <th></th>\n",
       "      <th></th>\n",
       "      <th></th>\n",
       "      <th></th>\n",
       "      <th></th>\n",
       "    </tr>\n",
       "  </thead>\n",
       "  <tbody>\n",
       "    <tr>\n",
       "      <th>Autauga, Alabama</th>\n",
       "      <td>19</td>\n",
       "      <td>31</td>\n",
       "      <td>254</td>\n",
       "      <td>4.3</td>\n",
       "      <td>18</td>\n",
       "      <td>12.9</td>\n",
       "    </tr>\n",
       "    <tr>\n",
       "      <th>Baldwin, Alabama</th>\n",
       "      <td>19</td>\n",
       "      <td>27</td>\n",
       "      <td>221</td>\n",
       "      <td>4.5</td>\n",
       "      <td>20</td>\n",
       "      <td>13.1</td>\n",
       "    </tr>\n",
       "    <tr>\n",
       "      <th>Barbour, Alabama</th>\n",
       "      <td>21</td>\n",
       "      <td>41</td>\n",
       "      <td>147</td>\n",
       "      <td>5.3</td>\n",
       "      <td>38</td>\n",
       "      <td>12.6</td>\n",
       "    </tr>\n",
       "    <tr>\n",
       "      <th>Bibb, Alabama</th>\n",
       "      <td>21</td>\n",
       "      <td>40</td>\n",
       "      <td>236</td>\n",
       "      <td>4.3</td>\n",
       "      <td>27</td>\n",
       "      <td>12.9</td>\n",
       "    </tr>\n",
       "    <tr>\n",
       "      <th>Blount, Alabama</th>\n",
       "      <td>19</td>\n",
       "      <td>32</td>\n",
       "      <td>219</td>\n",
       "      <td>4.1</td>\n",
       "      <td>24</td>\n",
       "      <td>12.7</td>\n",
       "    </tr>\n",
       "  </tbody>\n",
       "</table>\n",
       "</div>"
      ],
      "text/plain": [
       "                  '\\% Smokers'  '\\% Obese'  'Violent Crime Rate'  \\\n",
       "County                                                             \n",
       "Autauga, Alabama            19          31                   254   \n",
       "Baldwin, Alabama            19          27                   221   \n",
       "Barbour, Alabama            21          41                   147   \n",
       "Bibb, Alabama               21          40                   236   \n",
       "Blount, Alabama             19          32                   219   \n",
       "\n",
       "                  '80/20 Income Ratio'  '\\% Children in Poverty'  \\\n",
       "County                                                             \n",
       "Autauga, Alabama                   4.3                        18   \n",
       "Baldwin, Alabama                   4.5                        20   \n",
       "Barbour, Alabama                   5.3                        38   \n",
       "Bibb, Alabama                      4.3                        27   \n",
       "Blount, Alabama                    4.1                        24   \n",
       "\n",
       "                  'Average Daily PM2.5'  \n",
       "County                                   \n",
       "Autauga, Alabama                   12.9  \n",
       "Baldwin, Alabama                   13.1  \n",
       "Barbour, Alabama                   12.6  \n",
       "Bibb, Alabama                      12.9  \n",
       "Blount, Alabama                    12.7  "
      ]
     },
     "execution_count": 22,
     "metadata": {},
     "output_type": "execute_result"
    }
   ],
   "source": [
    "df = Data2[[\"'\\% Smokers'\",\"'\\% Obese'\",\"'Violent Crime Rate'\",\"'80/20 Income Ratio'\",\n",
    "            \"'\\% Children in Poverty'\",\"'Average Daily PM2.5'\"]]\n",
    "df.head()"
   ]
  },
  {
   "cell_type": "code",
   "execution_count": 23,
   "metadata": {},
   "outputs": [
    {
     "data": {
      "text/html": [
       "<div>\n",
       "<style scoped>\n",
       "    .dataframe tbody tr th:only-of-type {\n",
       "        vertical-align: middle;\n",
       "    }\n",
       "\n",
       "    .dataframe tbody tr th {\n",
       "        vertical-align: top;\n",
       "    }\n",
       "\n",
       "    .dataframe thead th {\n",
       "        text-align: right;\n",
       "    }\n",
       "</style>\n",
       "<table border=\"1\" class=\"dataframe\">\n",
       "  <thead>\n",
       "    <tr style=\"text-align: right;\">\n",
       "      <th></th>\n",
       "      <th>'\\% Smokers'</th>\n",
       "      <th>'\\% Obese'</th>\n",
       "      <th>'Violent Crime Rate'</th>\n",
       "      <th>'80/20 Income Ratio'</th>\n",
       "      <th>'\\% Children in Poverty'</th>\n",
       "      <th>'Average Daily PM2.5'</th>\n",
       "    </tr>\n",
       "  </thead>\n",
       "  <tbody>\n",
       "    <tr>\n",
       "      <th>count</th>\n",
       "      <td>2486.000000</td>\n",
       "      <td>2486.000000</td>\n",
       "      <td>2486.000000</td>\n",
       "      <td>2486.000000</td>\n",
       "      <td>2486.000000</td>\n",
       "      <td>2486.000000</td>\n",
       "    </tr>\n",
       "    <tr>\n",
       "      <th>mean</th>\n",
       "      <td>18.569992</td>\n",
       "      <td>31.022928</td>\n",
       "      <td>267.538616</td>\n",
       "      <td>4.545133</td>\n",
       "      <td>23.844730</td>\n",
       "      <td>11.720072</td>\n",
       "    </tr>\n",
       "    <tr>\n",
       "      <th>std</th>\n",
       "      <td>3.646631</td>\n",
       "      <td>4.524278</td>\n",
       "      <td>198.532609</td>\n",
       "      <td>0.695486</td>\n",
       "      <td>8.692791</td>\n",
       "      <td>1.535203</td>\n",
       "    </tr>\n",
       "    <tr>\n",
       "      <th>min</th>\n",
       "      <td>7.000000</td>\n",
       "      <td>11.000000</td>\n",
       "      <td>0.000000</td>\n",
       "      <td>2.700000</td>\n",
       "      <td>3.000000</td>\n",
       "      <td>7.200000</td>\n",
       "    </tr>\n",
       "    <tr>\n",
       "      <th>25%</th>\n",
       "      <td>16.000000</td>\n",
       "      <td>29.000000</td>\n",
       "      <td>128.000000</td>\n",
       "      <td>4.100000</td>\n",
       "      <td>17.250000</td>\n",
       "      <td>10.600000</td>\n",
       "    </tr>\n",
       "    <tr>\n",
       "      <th>50%</th>\n",
       "      <td>18.000000</td>\n",
       "      <td>31.000000</td>\n",
       "      <td>216.000000</td>\n",
       "      <td>4.400000</td>\n",
       "      <td>23.000000</td>\n",
       "      <td>12.000000</td>\n",
       "    </tr>\n",
       "    <tr>\n",
       "      <th>75%</th>\n",
       "      <td>21.000000</td>\n",
       "      <td>34.000000</td>\n",
       "      <td>356.750000</td>\n",
       "      <td>4.900000</td>\n",
       "      <td>29.000000</td>\n",
       "      <td>13.000000</td>\n",
       "    </tr>\n",
       "    <tr>\n",
       "      <th>max</th>\n",
       "      <td>41.000000</td>\n",
       "      <td>46.000000</td>\n",
       "      <td>1885.000000</td>\n",
       "      <td>8.700000</td>\n",
       "      <td>54.000000</td>\n",
       "      <td>14.900000</td>\n",
       "    </tr>\n",
       "  </tbody>\n",
       "</table>\n",
       "</div>"
      ],
      "text/plain": [
       "       '\\% Smokers'   '\\% Obese'  'Violent Crime Rate'  '80/20 Income Ratio'  \\\n",
       "count   2486.000000  2486.000000           2486.000000           2486.000000   \n",
       "mean      18.569992    31.022928            267.538616              4.545133   \n",
       "std        3.646631     4.524278            198.532609              0.695486   \n",
       "min        7.000000    11.000000              0.000000              2.700000   \n",
       "25%       16.000000    29.000000            128.000000              4.100000   \n",
       "50%       18.000000    31.000000            216.000000              4.400000   \n",
       "75%       21.000000    34.000000            356.750000              4.900000   \n",
       "max       41.000000    46.000000           1885.000000              8.700000   \n",
       "\n",
       "       '\\% Children in Poverty'  'Average Daily PM2.5'  \n",
       "count               2486.000000            2486.000000  \n",
       "mean                  23.844730              11.720072  \n",
       "std                    8.692791               1.535203  \n",
       "min                    3.000000               7.200000  \n",
       "25%                   17.250000              10.600000  \n",
       "50%                   23.000000              12.000000  \n",
       "75%                   29.000000              13.000000  \n",
       "max                   54.000000              14.900000  "
      ]
     },
     "execution_count": 23,
     "metadata": {},
     "output_type": "execute_result"
    }
   ],
   "source": [
    "df.describe()"
   ]
  },
  {
   "cell_type": "code",
   "execution_count": 24,
   "metadata": {},
   "outputs": [
    {
     "data": {
      "text/plain": [
       "Index([''\\% Smokers'', ''\\% Obese'', ''Violent Crime Rate'',\n",
       "       ''80/20 Income Ratio'', ''\\% Children in Poverty'',\n",
       "       ''Average Daily PM2.5''],\n",
       "      dtype='object')"
      ]
     },
     "execution_count": 24,
     "metadata": {},
     "output_type": "execute_result"
    }
   ],
   "source": [
    "df.columns"
   ]
  },
  {
   "cell_type": "code",
   "execution_count": 25,
   "metadata": {},
   "outputs": [
    {
     "name": "stderr",
     "output_type": "stream",
     "text": [
      "/nfshome/pl1840/.conda/envs/myEnv3/lib/python3.7/site-packages/ipykernel_launcher.py:2: SettingWithCopyWarning: \n",
      "A value is trying to be set on a copy of a slice from a DataFrame.\n",
      "Try using .loc[row_indexer,col_indexer] = value instead\n",
      "\n",
      "See the caveats in the documentation: http://pandas.pydata.org/pandas-docs/stable/indexing.html#indexing-view-versus-copy\n",
      "  \n"
     ]
    }
   ],
   "source": [
    "for column in df.columns:\n",
    "    df[column] = pd.qcut(df[column],5,labels=False)"
   ]
  },
  {
   "cell_type": "code",
   "execution_count": 26,
   "metadata": {},
   "outputs": [
    {
     "data": {
      "text/html": [
       "<div>\n",
       "<style scoped>\n",
       "    .dataframe tbody tr th:only-of-type {\n",
       "        vertical-align: middle;\n",
       "    }\n",
       "\n",
       "    .dataframe tbody tr th {\n",
       "        vertical-align: top;\n",
       "    }\n",
       "\n",
       "    .dataframe thead th {\n",
       "        text-align: right;\n",
       "    }\n",
       "</style>\n",
       "<table border=\"1\" class=\"dataframe\">\n",
       "  <thead>\n",
       "    <tr style=\"text-align: right;\">\n",
       "      <th></th>\n",
       "      <th>'\\% Smokers'</th>\n",
       "      <th>'\\% Obese'</th>\n",
       "      <th>'Violent Crime Rate'</th>\n",
       "      <th>'80/20 Income Ratio'</th>\n",
       "      <th>'\\% Children in Poverty'</th>\n",
       "      <th>'Average Daily PM2.5'</th>\n",
       "    </tr>\n",
       "    <tr>\n",
       "      <th>County</th>\n",
       "      <th></th>\n",
       "      <th></th>\n",
       "      <th></th>\n",
       "      <th></th>\n",
       "      <th></th>\n",
       "      <th></th>\n",
       "    </tr>\n",
       "  </thead>\n",
       "  <tbody>\n",
       "    <tr>\n",
       "      <th>Autauga, Alabama</th>\n",
       "      <td>2</td>\n",
       "      <td>2</td>\n",
       "      <td>2</td>\n",
       "      <td>1</td>\n",
       "      <td>1</td>\n",
       "      <td>3</td>\n",
       "    </tr>\n",
       "    <tr>\n",
       "      <th>Baldwin, Alabama</th>\n",
       "      <td>2</td>\n",
       "      <td>0</td>\n",
       "      <td>2</td>\n",
       "      <td>2</td>\n",
       "      <td>1</td>\n",
       "      <td>3</td>\n",
       "    </tr>\n",
       "    <tr>\n",
       "      <th>Barbour, Alabama</th>\n",
       "      <td>3</td>\n",
       "      <td>4</td>\n",
       "      <td>1</td>\n",
       "      <td>4</td>\n",
       "      <td>4</td>\n",
       "      <td>3</td>\n",
       "    </tr>\n",
       "    <tr>\n",
       "      <th>Bibb, Alabama</th>\n",
       "      <td>3</td>\n",
       "      <td>4</td>\n",
       "      <td>2</td>\n",
       "      <td>1</td>\n",
       "      <td>3</td>\n",
       "      <td>3</td>\n",
       "    </tr>\n",
       "    <tr>\n",
       "      <th>Blount, Alabama</th>\n",
       "      <td>2</td>\n",
       "      <td>2</td>\n",
       "      <td>2</td>\n",
       "      <td>1</td>\n",
       "      <td>2</td>\n",
       "      <td>3</td>\n",
       "    </tr>\n",
       "  </tbody>\n",
       "</table>\n",
       "</div>"
      ],
      "text/plain": [
       "                  '\\% Smokers'  '\\% Obese'  'Violent Crime Rate'  \\\n",
       "County                                                             \n",
       "Autauga, Alabama             2           2                     2   \n",
       "Baldwin, Alabama             2           0                     2   \n",
       "Barbour, Alabama             3           4                     1   \n",
       "Bibb, Alabama                3           4                     2   \n",
       "Blount, Alabama              2           2                     2   \n",
       "\n",
       "                  '80/20 Income Ratio'  '\\% Children in Poverty'  \\\n",
       "County                                                             \n",
       "Autauga, Alabama                     1                         1   \n",
       "Baldwin, Alabama                     2                         1   \n",
       "Barbour, Alabama                     4                         4   \n",
       "Bibb, Alabama                        1                         3   \n",
       "Blount, Alabama                      1                         2   \n",
       "\n",
       "                  'Average Daily PM2.5'  \n",
       "County                                   \n",
       "Autauga, Alabama                      3  \n",
       "Baldwin, Alabama                      3  \n",
       "Barbour, Alabama                      3  \n",
       "Bibb, Alabama                         3  \n",
       "Blount, Alabama                       3  "
      ]
     },
     "execution_count": 26,
     "metadata": {},
     "output_type": "execute_result"
    }
   ],
   "source": [
    "df.head()"
   ]
  },
  {
   "cell_type": "code",
   "execution_count": 27,
   "metadata": {},
   "outputs": [
    {
     "data": {
      "text/html": [
       "<div>\n",
       "<style scoped>\n",
       "    .dataframe tbody tr th:only-of-type {\n",
       "        vertical-align: middle;\n",
       "    }\n",
       "\n",
       "    .dataframe tbody tr th {\n",
       "        vertical-align: top;\n",
       "    }\n",
       "\n",
       "    .dataframe thead th {\n",
       "        text-align: right;\n",
       "    }\n",
       "</style>\n",
       "<table border=\"1\" class=\"dataframe\">\n",
       "  <thead>\n",
       "    <tr style=\"text-align: right;\">\n",
       "      <th></th>\n",
       "      <th>'\\% Smokers'</th>\n",
       "      <th>'\\% Obese'</th>\n",
       "      <th>'Violent Crime Rate'</th>\n",
       "      <th>'80/20 Income Ratio'</th>\n",
       "      <th>'\\% Children in Poverty'</th>\n",
       "      <th>'Average Daily PM2.5'</th>\n",
       "    </tr>\n",
       "  </thead>\n",
       "  <tbody>\n",
       "    <tr>\n",
       "      <th>count</th>\n",
       "      <td>2486.000000</td>\n",
       "      <td>2486.000000</td>\n",
       "      <td>2486.000000</td>\n",
       "      <td>2486.000000</td>\n",
       "      <td>2486.000000</td>\n",
       "      <td>2486.000000</td>\n",
       "    </tr>\n",
       "    <tr>\n",
       "      <th>mean</th>\n",
       "      <td>1.775543</td>\n",
       "      <td>1.847949</td>\n",
       "      <td>1.996380</td>\n",
       "      <td>1.896219</td>\n",
       "      <td>1.907884</td>\n",
       "      <td>1.963797</td>\n",
       "    </tr>\n",
       "    <tr>\n",
       "      <th>std</th>\n",
       "      <td>1.473407</td>\n",
       "      <td>1.389892</td>\n",
       "      <td>1.414636</td>\n",
       "      <td>1.440884</td>\n",
       "      <td>1.397599</td>\n",
       "      <td>1.404325</td>\n",
       "    </tr>\n",
       "    <tr>\n",
       "      <th>min</th>\n",
       "      <td>0.000000</td>\n",
       "      <td>0.000000</td>\n",
       "      <td>0.000000</td>\n",
       "      <td>0.000000</td>\n",
       "      <td>0.000000</td>\n",
       "      <td>0.000000</td>\n",
       "    </tr>\n",
       "    <tr>\n",
       "      <th>25%</th>\n",
       "      <td>0.000000</td>\n",
       "      <td>1.000000</td>\n",
       "      <td>1.000000</td>\n",
       "      <td>1.000000</td>\n",
       "      <td>1.000000</td>\n",
       "      <td>1.000000</td>\n",
       "    </tr>\n",
       "    <tr>\n",
       "      <th>50%</th>\n",
       "      <td>2.000000</td>\n",
       "      <td>2.000000</td>\n",
       "      <td>2.000000</td>\n",
       "      <td>2.000000</td>\n",
       "      <td>2.000000</td>\n",
       "      <td>2.000000</td>\n",
       "    </tr>\n",
       "    <tr>\n",
       "      <th>75%</th>\n",
       "      <td>3.000000</td>\n",
       "      <td>3.000000</td>\n",
       "      <td>3.000000</td>\n",
       "      <td>3.000000</td>\n",
       "      <td>3.000000</td>\n",
       "      <td>3.000000</td>\n",
       "    </tr>\n",
       "    <tr>\n",
       "      <th>max</th>\n",
       "      <td>4.000000</td>\n",
       "      <td>4.000000</td>\n",
       "      <td>4.000000</td>\n",
       "      <td>4.000000</td>\n",
       "      <td>4.000000</td>\n",
       "      <td>4.000000</td>\n",
       "    </tr>\n",
       "  </tbody>\n",
       "</table>\n",
       "</div>"
      ],
      "text/plain": [
       "       '\\% Smokers'   '\\% Obese'  'Violent Crime Rate'  '80/20 Income Ratio'  \\\n",
       "count   2486.000000  2486.000000           2486.000000           2486.000000   \n",
       "mean       1.775543     1.847949              1.996380              1.896219   \n",
       "std        1.473407     1.389892              1.414636              1.440884   \n",
       "min        0.000000     0.000000              0.000000              0.000000   \n",
       "25%        0.000000     1.000000              1.000000              1.000000   \n",
       "50%        2.000000     2.000000              2.000000              2.000000   \n",
       "75%        3.000000     3.000000              3.000000              3.000000   \n",
       "max        4.000000     4.000000              4.000000              4.000000   \n",
       "\n",
       "       '\\% Children in Poverty'  'Average Daily PM2.5'  \n",
       "count               2486.000000            2486.000000  \n",
       "mean                   1.907884               1.963797  \n",
       "std                    1.397599               1.404325  \n",
       "min                    0.000000               0.000000  \n",
       "25%                    1.000000               1.000000  \n",
       "50%                    2.000000               2.000000  \n",
       "75%                    3.000000               3.000000  \n",
       "max                    4.000000               4.000000  "
      ]
     },
     "execution_count": 27,
     "metadata": {},
     "output_type": "execute_result"
    }
   ],
   "source": [
    "df.describe()"
   ]
  },
  {
   "cell_type": "markdown",
   "metadata": {},
   "source": [
    "(a) Use HillClimbSearch and BicScore to learn the Bayesian network structure (5 pts) "
   ]
  },
  {
   "cell_type": "code",
   "execution_count": 28,
   "metadata": {},
   "outputs": [
    {
     "name": "stdout",
     "output_type": "stream",
     "text": [
      "[(\"'\\\\% Smokers'\", \"'\\\\% Obese'\"), (\"'\\\\% Smokers'\", \"'\\\\% Children in Poverty'\"), (\"'80/20 Income Ratio'\", \"'Violent Crime Rate'\"), (\"'\\\\% Children in Poverty'\", \"'80/20 Income Ratio'\"), (\"'Average Daily PM2.5'\", \"'\\\\% Smokers'\")]\n"
     ]
    }
   ],
   "source": [
    "from pgmpy.estimators import HillClimbSearch\n",
    "from pgmpy.estimators import BicScore\n",
    "hc = HillClimbSearch(df, scoring_method=BicScore(df))\n",
    "best_model = hc.estimate()\n",
    "print(best_model.edges())"
   ]
  },
  {
   "cell_type": "markdown",
   "metadata": {},
   "source": [
    "(b) Which 5 counties have the lowest (most negative) log-likelihood values? Please show a ranked list of the top counties' names and log-likelihood values. (10 pts)"
   ]
  },
  {
   "cell_type": "code",
   "execution_count": 29,
   "metadata": {},
   "outputs": [],
   "source": [
    "from pgmpy.models import BayesianModel\n",
    "from pgmpy.estimators import MaximumLikelihoodEstimator\n",
    "\n",
    "model = BayesianModel(best_model.edges())\n",
    "model.fit(df, estimator=MaximumLikelihoodEstimator)\n",
    "\n",
    "# Log-likelihood of data record x given model\n",
    "def LL(x,model,verbose=False):\n",
    "    loglike = 0\n",
    "    for cpd in model.get_cpds():\n",
    "        temp_cpd = cpd.copy()\n",
    "        thevariable = temp_cpd.variable\n",
    "        theparents = model.predecessors(thevariable)\n",
    "        for parent in theparents:\n",
    "            temp_cpd.reduce([(parent, x[parent])])\n",
    "        theprob = temp_cpd.get_values()[x[thevariable],0]\n",
    "        if verbose:\n",
    "            print (thevariable,theparents,theprob)\n",
    "        loglike += np.log(theprob)\n",
    "    return loglike\n",
    "\n",
    "# compute anomalousness of each of the first 500 data records\n",
    "exmp=df.apply(lambda x: LL(x,model),axis=1)"
   ]
  },
  {
   "cell_type": "code",
   "execution_count": 30,
   "metadata": {},
   "outputs": [
    {
     "name": "stdout",
     "output_type": "stream",
     "text": [
      "County\n",
      "Montgomery, Virginia          -14.028248\n",
      "Harrisonburg City, Virginia   -13.929264\n",
      "La Paz, Arizona               -13.743477\n",
      "Highlands, Florida            -13.348434\n",
      "Lafayette, Louisiana          -13.302995\n",
      "dtype: float64\n"
     ]
    }
   ],
   "source": [
    "# 10 most anomalous data records\n",
    "print (exmp.sort_values().head(5))"
   ]
  },
  {
   "cell_type": "markdown",
   "metadata": {},
   "source": [
    "Part 2: Cluster based anomaly detection.  Use all numeric features for this part, and do not discretize. \n",
    "\n",
    "(a) Clustering with k-means. Please use k=3 clusters. Compute each record's distance to the nearest cluster center and report the five counties which have the longest distances. (10 pts)"
   ]
  },
  {
   "cell_type": "code",
   "execution_count": 31,
   "metadata": {},
   "outputs": [],
   "source": [
    "from sklearn.cluster import KMeans\n",
    "KM=KMeans(n_clusters=3,random_state=666)\n",
    "scors=KM.fit_predict(Data2)"
   ]
  },
  {
   "cell_type": "code",
   "execution_count": 32,
   "metadata": {},
   "outputs": [],
   "source": [
    "res = pd.DataFrame(KM.transform(Data2), index = Data2.index)"
   ]
  },
  {
   "cell_type": "code",
   "execution_count": 33,
   "metadata": {},
   "outputs": [],
   "source": [
    "res['Min_Distance'] = res.min(axis=1)"
   ]
  },
  {
   "cell_type": "code",
   "execution_count": 34,
   "metadata": {},
   "outputs": [],
   "source": [
    "res['Nearest_Center'] = res.idxmin(axis=1)"
   ]
  },
  {
   "cell_type": "code",
   "execution_count": 35,
   "metadata": {},
   "outputs": [],
   "source": [
    "res.rename(columns = {0:\"Cluster1\", 1:\"Cluster2\", 2:\"Cluster3\"}, inplace=True)"
   ]
  },
  {
   "cell_type": "code",
   "execution_count": 36,
   "metadata": {},
   "outputs": [],
   "source": [
    "km = res.sort_values('Min_Distance', ascending = False).head(5)"
   ]
  },
  {
   "cell_type": "code",
   "execution_count": 37,
   "metadata": {},
   "outputs": [],
   "source": [
    "km.reset_index(inplace=True)"
   ]
  },
  {
   "cell_type": "code",
   "execution_count": 38,
   "metadata": {},
   "outputs": [
    {
     "data": {
      "text/html": [
       "<div>\n",
       "<style scoped>\n",
       "    .dataframe tbody tr th:only-of-type {\n",
       "        vertical-align: middle;\n",
       "    }\n",
       "\n",
       "    .dataframe tbody tr th {\n",
       "        vertical-align: top;\n",
       "    }\n",
       "\n",
       "    .dataframe thead th {\n",
       "        text-align: right;\n",
       "    }\n",
       "</style>\n",
       "<table border=\"1\" class=\"dataframe\">\n",
       "  <thead>\n",
       "    <tr style=\"text-align: right;\">\n",
       "      <th></th>\n",
       "      <th>County</th>\n",
       "      <th>Cluster1</th>\n",
       "      <th>Cluster2</th>\n",
       "      <th>Cluster3</th>\n",
       "      <th>Min_Distance</th>\n",
       "      <th>Nearest_Center</th>\n",
       "    </tr>\n",
       "  </thead>\n",
       "  <tbody>\n",
       "    <tr>\n",
       "      <th>0</th>\n",
       "      <td>Shannon, South Dakota</td>\n",
       "      <td>2443.781901</td>\n",
       "      <td>1970.324198</td>\n",
       "      <td>2252.115237</td>\n",
       "      <td>1970.324198</td>\n",
       "      <td>1</td>\n",
       "    </tr>\n",
       "    <tr>\n",
       "      <th>1</th>\n",
       "      <td>St. Louis City, Missouri</td>\n",
       "      <td>2036.497924</td>\n",
       "      <td>1333.684659</td>\n",
       "      <td>1759.881142</td>\n",
       "      <td>1333.684659</td>\n",
       "      <td>1</td>\n",
       "    </tr>\n",
       "    <tr>\n",
       "      <th>2</th>\n",
       "      <td>Crittenden, Arkansas</td>\n",
       "      <td>1918.080828</td>\n",
       "      <td>1209.851405</td>\n",
       "      <td>1639.710855</td>\n",
       "      <td>1209.851405</td>\n",
       "      <td>1</td>\n",
       "    </tr>\n",
       "    <tr>\n",
       "      <th>3</th>\n",
       "      <td>Petersburg City, Virginia</td>\n",
       "      <td>1645.051634</td>\n",
       "      <td>1018.437370</td>\n",
       "      <td>1395.557088</td>\n",
       "      <td>1018.437370</td>\n",
       "      <td>1</td>\n",
       "    </tr>\n",
       "    <tr>\n",
       "      <th>4</th>\n",
       "      <td>Baltimore City, Maryland</td>\n",
       "      <td>1652.289633</td>\n",
       "      <td>919.349842</td>\n",
       "      <td>1367.448537</td>\n",
       "      <td>919.349842</td>\n",
       "      <td>1</td>\n",
       "    </tr>\n",
       "  </tbody>\n",
       "</table>\n",
       "</div>"
      ],
      "text/plain": [
       "                      County     Cluster1     Cluster2     Cluster3  \\\n",
       "0      Shannon, South Dakota  2443.781901  1970.324198  2252.115237   \n",
       "1   St. Louis City, Missouri  2036.497924  1333.684659  1759.881142   \n",
       "2       Crittenden, Arkansas  1918.080828  1209.851405  1639.710855   \n",
       "3  Petersburg City, Virginia  1645.051634  1018.437370  1395.557088   \n",
       "4   Baltimore City, Maryland  1652.289633   919.349842  1367.448537   \n",
       "\n",
       "   Min_Distance  Nearest_Center  \n",
       "0   1970.324198               1  \n",
       "1   1333.684659               1  \n",
       "2   1209.851405               1  \n",
       "3   1018.437370               1  \n",
       "4    919.349842               1  "
      ]
     },
     "execution_count": 38,
     "metadata": {},
     "output_type": "execute_result"
    }
   ],
   "source": [
    "km"
   ]
  },
  {
   "cell_type": "markdown",
   "metadata": {},
   "source": [
    "(b) Cluster with Gaussian Mixture. Please repeat (2)a but use log-likelihood for each record (rather than distance) as the measure of anomalousness. (10 pts)"
   ]
  },
  {
   "cell_type": "code",
   "execution_count": 39,
   "metadata": {},
   "outputs": [],
   "source": [
    "from sklearn.mixture import GaussianMixture\n",
    "GM=GaussianMixture(n_components=3,random_state=666)\n",
    "res = GM.fit(Data2)"
   ]
  },
  {
   "cell_type": "code",
   "execution_count": 40,
   "metadata": {},
   "outputs": [
    {
     "data": {
      "text/plain": [
       "array([-77.02337127, -73.22209277, -83.53473653, ..., -88.15413206,\n",
       "       -91.23124685, -85.58135427])"
      ]
     },
     "execution_count": 40,
     "metadata": {},
     "output_type": "execute_result"
    }
   ],
   "source": [
    "res.score_samples(Data2)"
   ]
  },
  {
   "cell_type": "code",
   "execution_count": 41,
   "metadata": {},
   "outputs": [],
   "source": [
    "gm = pd.DataFrame(res.score_samples(Data2), index = Data2.index)"
   ]
  },
  {
   "cell_type": "code",
   "execution_count": 42,
   "metadata": {},
   "outputs": [],
   "source": [
    "gm.rename(columns={0 : \"log_likelihood\"}, inplace=True)"
   ]
  },
  {
   "cell_type": "code",
   "execution_count": 43,
   "metadata": {},
   "outputs": [],
   "source": [
    "gm = gm.sort_values('log_likelihood', ascending = True).head(5)"
   ]
  },
  {
   "cell_type": "code",
   "execution_count": 44,
   "metadata": {},
   "outputs": [
    {
     "data": {
      "text/html": [
       "<div>\n",
       "<style scoped>\n",
       "    .dataframe tbody tr th:only-of-type {\n",
       "        vertical-align: middle;\n",
       "    }\n",
       "\n",
       "    .dataframe tbody tr th {\n",
       "        vertical-align: top;\n",
       "    }\n",
       "\n",
       "    .dataframe thead th {\n",
       "        text-align: right;\n",
       "    }\n",
       "</style>\n",
       "<table border=\"1\" class=\"dataframe\">\n",
       "  <thead>\n",
       "    <tr style=\"text-align: right;\">\n",
       "      <th></th>\n",
       "      <th>County</th>\n",
       "      <th>log_likelihood</th>\n",
       "    </tr>\n",
       "  </thead>\n",
       "  <tbody>\n",
       "    <tr>\n",
       "      <th>0</th>\n",
       "      <td>Shannon, South Dakota</td>\n",
       "      <td>-197.640278</td>\n",
       "    </tr>\n",
       "    <tr>\n",
       "      <th>1</th>\n",
       "      <td>Apache, Arizona</td>\n",
       "      <td>-133.169600</td>\n",
       "    </tr>\n",
       "    <tr>\n",
       "      <th>2</th>\n",
       "      <td>New York, New York</td>\n",
       "      <td>-131.535889</td>\n",
       "    </tr>\n",
       "    <tr>\n",
       "      <th>3</th>\n",
       "      <td>Willacy, Texas</td>\n",
       "      <td>-129.175629</td>\n",
       "    </tr>\n",
       "    <tr>\n",
       "      <th>4</th>\n",
       "      <td>Roulette, North Dakota</td>\n",
       "      <td>-126.773258</td>\n",
       "    </tr>\n",
       "  </tbody>\n",
       "</table>\n",
       "</div>"
      ],
      "text/plain": [
       "                   County  log_likelihood\n",
       "0   Shannon, South Dakota     -197.640278\n",
       "1         Apache, Arizona     -133.169600\n",
       "2      New York, New York     -131.535889\n",
       "3          Willacy, Texas     -129.175629\n",
       "4  Roulette, North Dakota     -126.773258"
      ]
     },
     "execution_count": 44,
     "metadata": {},
     "output_type": "execute_result"
    }
   ],
   "source": [
    "gm.reset_index(inplace=True)\n",
    "gm"
   ]
  },
  {
   "cell_type": "markdown",
   "metadata": {},
   "source": [
    "Part 3: Choose one more anomaly detection model you prefer and report the top 5 most anomalous counties by the model you chose.  (10 pts)"
   ]
  },
  {
   "cell_type": "markdown",
   "metadata": {},
   "source": [
    "**IsolationForest**"
   ]
  },
  {
   "cell_type": "code",
   "execution_count": 45,
   "metadata": {},
   "outputs": [
    {
     "name": "stderr",
     "output_type": "stream",
     "text": [
      "/nfshome/pl1840/.conda/envs/myEnv3/lib/python3.7/site-packages/sklearn/ensemble/iforest.py:213: FutureWarning: default contamination parameter 0.1 will change in version 0.22 to \"auto\". This will change the predict method behavior.\n",
      "  FutureWarning)\n",
      "/nfshome/pl1840/.conda/envs/myEnv3/lib/python3.7/site-packages/sklearn/ensemble/iforest.py:223: FutureWarning: behaviour=\"old\" is deprecated and will be removed in version 0.22. Please use behaviour=\"new\", which makes the decision_function change to match other anomaly detection algorithm API.\n",
      "  FutureWarning)\n"
     ]
    }
   ],
   "source": [
    "from sklearn.ensemble import IsolationForest\n",
    "clf = IsolationForest(max_samples=100, random_state=42)\n",
    "res = clf.fit(Data2)"
   ]
  },
  {
   "cell_type": "code",
   "execution_count": 46,
   "metadata": {},
   "outputs": [
    {
     "data": {
      "text/plain": [
       "array([0.09501588, 0.1119509 , 0.01570271, ..., 0.07490439, 0.01810123,\n",
       "       0.0588523 ])"
      ]
     },
     "execution_count": 46,
     "metadata": {},
     "output_type": "execute_result"
    }
   ],
   "source": [
    "res.decision_function(Data2)"
   ]
  },
  {
   "cell_type": "code",
   "execution_count": 47,
   "metadata": {},
   "outputs": [],
   "source": [
    "ilf = pd.DataFrame(res.decision_function(Data2), index=Data2.index)"
   ]
  },
  {
   "cell_type": "code",
   "execution_count": 48,
   "metadata": {},
   "outputs": [],
   "source": [
    "ilf.rename(columns = {0:\"score\"}, inplace=True)"
   ]
  },
  {
   "cell_type": "code",
   "execution_count": 49,
   "metadata": {},
   "outputs": [],
   "source": [
    "ilf = ilf.sort_values('score', ascending = True).head(5)"
   ]
  },
  {
   "cell_type": "code",
   "execution_count": 50,
   "metadata": {},
   "outputs": [
    {
     "data": {
      "text/html": [
       "<div>\n",
       "<style scoped>\n",
       "    .dataframe tbody tr th:only-of-type {\n",
       "        vertical-align: middle;\n",
       "    }\n",
       "\n",
       "    .dataframe tbody tr th {\n",
       "        vertical-align: top;\n",
       "    }\n",
       "\n",
       "    .dataframe thead th {\n",
       "        text-align: right;\n",
       "    }\n",
       "</style>\n",
       "<table border=\"1\" class=\"dataframe\">\n",
       "  <thead>\n",
       "    <tr style=\"text-align: right;\">\n",
       "      <th></th>\n",
       "      <th>County</th>\n",
       "      <th>score</th>\n",
       "    </tr>\n",
       "  </thead>\n",
       "  <tbody>\n",
       "    <tr>\n",
       "      <th>0</th>\n",
       "      <td>Shannon, South Dakota</td>\n",
       "      <td>-0.138947</td>\n",
       "    </tr>\n",
       "    <tr>\n",
       "      <th>1</th>\n",
       "      <td>East Carroll, Louisiana</td>\n",
       "      <td>-0.092988</td>\n",
       "    </tr>\n",
       "    <tr>\n",
       "      <th>2</th>\n",
       "      <td>Roulette, North Dakota</td>\n",
       "      <td>-0.089454</td>\n",
       "    </tr>\n",
       "    <tr>\n",
       "      <th>3</th>\n",
       "      <td>Dallas, Alabama</td>\n",
       "      <td>-0.084689</td>\n",
       "    </tr>\n",
       "    <tr>\n",
       "      <th>4</th>\n",
       "      <td>Lowndes, Alabama</td>\n",
       "      <td>-0.083721</td>\n",
       "    </tr>\n",
       "  </tbody>\n",
       "</table>\n",
       "</div>"
      ],
      "text/plain": [
       "                    County     score\n",
       "0    Shannon, South Dakota -0.138947\n",
       "1  East Carroll, Louisiana -0.092988\n",
       "2   Roulette, North Dakota -0.089454\n",
       "3          Dallas, Alabama -0.084689\n",
       "4         Lowndes, Alabama -0.083721"
      ]
     },
     "execution_count": 50,
     "metadata": {},
     "output_type": "execute_result"
    }
   ],
   "source": [
    "ilf.reset_index(inplace=True)\n",
    "ilf"
   ]
  },
  {
   "cell_type": "markdown",
   "metadata": {},
   "source": [
    "Part 4: Compare and contrast the results from the different models.  Were there some counties that were found to be anomalous in some models and not in others?  Please provide some intuitions on why each county was found to be anomalous. (5 pts)"
   ]
  },
  {
   "cell_type": "code",
   "execution_count": 51,
   "metadata": {},
   "outputs": [],
   "source": [
    "result = pd.DataFrame()\n",
    "result['km'] = km['County']\n",
    "result['gm'] = gm['County']\n",
    "result['ilf'] = ilf['County']"
   ]
  },
  {
   "cell_type": "code",
   "execution_count": 52,
   "metadata": {},
   "outputs": [
    {
     "data": {
      "text/html": [
       "<div>\n",
       "<style scoped>\n",
       "    .dataframe tbody tr th:only-of-type {\n",
       "        vertical-align: middle;\n",
       "    }\n",
       "\n",
       "    .dataframe tbody tr th {\n",
       "        vertical-align: top;\n",
       "    }\n",
       "\n",
       "    .dataframe thead th {\n",
       "        text-align: right;\n",
       "    }\n",
       "</style>\n",
       "<table border=\"1\" class=\"dataframe\">\n",
       "  <thead>\n",
       "    <tr style=\"text-align: right;\">\n",
       "      <th></th>\n",
       "      <th>km</th>\n",
       "      <th>gm</th>\n",
       "      <th>ilf</th>\n",
       "    </tr>\n",
       "  </thead>\n",
       "  <tbody>\n",
       "    <tr>\n",
       "      <th>0</th>\n",
       "      <td>Shannon, South Dakota</td>\n",
       "      <td>Shannon, South Dakota</td>\n",
       "      <td>Shannon, South Dakota</td>\n",
       "    </tr>\n",
       "    <tr>\n",
       "      <th>1</th>\n",
       "      <td>St. Louis City, Missouri</td>\n",
       "      <td>Apache, Arizona</td>\n",
       "      <td>East Carroll, Louisiana</td>\n",
       "    </tr>\n",
       "    <tr>\n",
       "      <th>2</th>\n",
       "      <td>Crittenden, Arkansas</td>\n",
       "      <td>New York, New York</td>\n",
       "      <td>Roulette, North Dakota</td>\n",
       "    </tr>\n",
       "    <tr>\n",
       "      <th>3</th>\n",
       "      <td>Petersburg City, Virginia</td>\n",
       "      <td>Willacy, Texas</td>\n",
       "      <td>Dallas, Alabama</td>\n",
       "    </tr>\n",
       "    <tr>\n",
       "      <th>4</th>\n",
       "      <td>Baltimore City, Maryland</td>\n",
       "      <td>Roulette, North Dakota</td>\n",
       "      <td>Lowndes, Alabama</td>\n",
       "    </tr>\n",
       "  </tbody>\n",
       "</table>\n",
       "</div>"
      ],
      "text/plain": [
       "                          km                      gm                      ilf\n",
       "0      Shannon, South Dakota   Shannon, South Dakota    Shannon, South Dakota\n",
       "1   St. Louis City, Missouri         Apache, Arizona  East Carroll, Louisiana\n",
       "2       Crittenden, Arkansas      New York, New York   Roulette, North Dakota\n",
       "3  Petersburg City, Virginia          Willacy, Texas          Dallas, Alabama\n",
       "4   Baltimore City, Maryland  Roulette, North Dakota         Lowndes, Alabama"
      ]
     },
     "execution_count": 52,
     "metadata": {},
     "output_type": "execute_result"
    }
   ],
   "source": [
    "result"
   ]
  },
  {
   "cell_type": "markdown",
   "metadata": {},
   "source": [
    "**Conclusion:**\n",
    "- Shannon is the only county in the top 5 for all three models. The intuition behind this results might due to it is one of the most poor county in United States. \n",
    "- Roulette is the top 5 for gaussian mixture and isolation forest models. As 2010, Roulette only has 594 population, it is a real small county that has only 141 famailies reside the county. It's reasonable that Roulette is count as anomalous.\n",
    "- New York is a county that has the largest population in the United States, so it is reasonable that NYC is count as anomalous.\n",
    "- The other counties are all has the population that much more lower than the average population of counties in United States (100,000), which is also reasonable counting them as anomalous."
   ]
  },
  {
   "cell_type": "code",
   "execution_count": null,
   "metadata": {},
   "outputs": [],
   "source": []
  }
 ],
 "metadata": {
  "anaconda-cloud": {},
  "kernelspec": {
   "display_name": "myEnv3",
   "language": "python",
   "name": "myenv3"
  },
  "language_info": {
   "codemirror_mode": {
    "name": "ipython",
    "version": 3
   },
   "file_extension": ".py",
   "mimetype": "text/x-python",
   "name": "python",
   "nbconvert_exporter": "python",
   "pygments_lexer": "ipython3",
   "version": "3.7.2"
  }
 },
 "nbformat": 4,
 "nbformat_minor": 1
}
